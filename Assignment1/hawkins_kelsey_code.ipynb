{
 "cells": [
  {
   "cell_type": "code",
   "execution_count": null,
   "metadata": {},
   "outputs": [],
   "source": [
    "pip install tensorflow\n",
    "pip install numpy\n",
    "pip install pandas\n"
   ]
  },
  {
   "cell_type": "code",
   "execution_count": 7,
   "metadata": {},
   "outputs": [],
   "source": [
    "# Get rid of annoying warnings\n",
    "import warnings\n",
    "warnings.filterwarnings('ignore')\n",
    "\n",
    "# Basic imports\n",
    "import numpy as np\n",
    "import pandas as pd\n",
    "\n",
    "# Imports for CNN\n",
    "import tensorflow as tf\n",
    "import tensorflow.keras as kb\n",
    "import keras_tuner as kt\n"
   ]
  },
  {
   "cell_type": "code",
   "execution_count": 8,
   "metadata": {},
   "outputs": [
    {
     "name": "stdout",
     "output_type": "stream",
     "text": [
      "Found 1323 files belonging to 2 classes.\n",
      "Found 165 files belonging to 2 classes.\n",
      "Found 167 files belonging to 2 classes.\n"
     ]
    }
   ],
   "source": [
    "# Reading in Data / Data Engineering\n",
    "\n",
    "train_dir = '/Users/kelseyhawkins/Desktop/Fruit_Classification/Train'\n",
    "test_dir = '/Users/kelseyhawkins/Desktop/Fruit_Classification/Test'\n",
    "val_dir = '/Users/kelseyhawkins/Desktop/Fruit_Classification/Val'\n",
    "\n",
    "batch_size = 32\n",
    "image_width = 300\n",
    "image_height = 300\n",
    "\n",
    "train_ds = tf.keras.utils.image_dataset_from_directory(\n",
    "  train_dir, # file path\n",
    "  seed=123, # seed\n",
    "  image_size= (image_width, image_height), # size of image\n",
    "  batch_size=batch_size) # number of images per batch\n",
    "\n",
    "test_ds = tf.keras.utils.image_dataset_from_directory(\n",
    "  test_dir, # file path\n",
    "  seed=123, # seed\n",
    "  image_size= (image_width, image_height), # size of image\n",
    "  batch_size=batch_size) # number of images per batch\n",
    "\n",
    "val_df = tf.keras.utils.image_dataset_from_directory(\n",
    "  val_dir, # file path\n",
    "  seed=123, # seed\n",
    "  image_size= (image_width, image_height), # size of image\n",
    "  batch_size=batch_size) # number of images per batch"
   ]
  },
  {
   "cell_type": "code",
   "execution_count": 20,
   "metadata": {},
   "outputs": [
    {
     "name": "stdout",
     "output_type": "stream",
     "text": [
      "Train Dataset Size:  1344\n",
      "Test Dataset Size:  192\n",
      "TOTAL Dataset Size:  1536\n",
      "Image Shape: (300, 300, 3)\n"
     ]
    }
   ],
   "source": [
    "# EDA\n",
    "num_train_batches = tf.data.experimental.cardinality(train_ds).numpy()\n",
    "num_test_batches = tf.data.experimental.cardinality(test_ds).numpy()\n",
    "\n",
    "approx_train_size = num_train_batches * batch_size\n",
    "approx_test_size = num_test_batches * batch_size\n",
    "\n",
    "print(\"Train Dataset Size: \", approx_train_size)\n",
    "print(\"Test Dataset Size: \", approx_test_size)\n",
    "print(\"TOTAL Dataset Size: \", approx_train_size+approx_test_size)\n",
    "\n",
    "for images, labels in train_ds.take(1):\n",
    "    image_shape = images[0].shape\n",
    "\n",
    "print(f\"Image Shape: {image_shape}\")\n"
   ]
  },
  {
   "cell_type": "code",
   "execution_count": null,
   "metadata": {},
   "outputs": [],
   "source": [
    "# Random Forest\n",
    "\n"
   ]
  },
  {
   "cell_type": "code",
   "execution_count": 9,
   "metadata": {},
   "outputs": [
    {
     "name": "stderr",
     "output_type": "stream",
     "text": [
      "WARNING:absl:At this time, the v2.11+ optimizer `tf.keras.optimizers.Adam` runs slowly on M1/M2 Macs, please use the legacy Keras optimizer instead, located at `tf.keras.optimizers.legacy.Adam`.\n"
     ]
    },
    {
     "name": "stdout",
     "output_type": "stream",
     "text": [
      "Epoch 1/2\n",
      "42/42 [==============================] - 52s 1s/step - loss: 44.4410 - accuracy: 0.5684 - val_loss: 0.5900 - val_accuracy: 0.7333\n",
      "Epoch 2/2\n",
      "42/42 [==============================] - 58s 1s/step - loss: 0.6296 - accuracy: 0.6311 - val_loss: 9.1732 - val_accuracy: 0.4909\n"
     ]
    }
   ],
   "source": [
    "# CNN - Basic from Dr.Parlett\n",
    "\n",
    "model = kb.Sequential()\n",
    "\n",
    "model.add(kb.layers.Conv2D(32, (3, 3), activation='relu', input_shape=(image_width, image_height, 3)))\n",
    "model.add(kb.layers.MaxPooling2D((2, 2)))\n",
    "\n",
    "model.add(kb.layers.Conv2D(64, (3, 3), activation='relu'))\n",
    "model.add(kb.layers.MaxPooling2D((2, 2)))\n",
    "\n",
    "model.add(kb.layers.Conv2D(128, (3, 3), activation='relu'))\n",
    "model.add(kb.layers.MaxPooling2D((2, 2)))\n",
    "\n",
    "model.add(kb.layers.Flatten())\n",
    "\n",
    "model.add(kb.layers.Dense(128, activation='relu'))\n",
    "model.add(kb.layers.Dropout(0.5))\n",
    "\n",
    "model.add(kb.layers.Dense(1, activation='sigmoid'))\n",
    "\n",
    "model.compile(loss='binary_crossentropy', optimizer=kb.optimizers.Adam(learning_rate=0.0001), metrics=['accuracy'])\n",
    "\n",
    "history = model.fit(\n",
    "    train_ds,\n",
    "    epochs=2,\n",
    "    validation_data= test_ds,\n",
    ")\n",
    "\n",
    "test_loss, test_acc = model.evaluate(test_ds)\n",
    "print(f\"Test Loss: {test_loss}\")\n",
    "print(f\"Test Accuracy: {test_acc}\")"
   ]
  },
  {
   "cell_type": "code",
   "execution_count": null,
   "metadata": {},
   "outputs": [],
   "source": [
    "# CNN - Tuning\n",
    "\n"
   ]
  }
 ],
 "metadata": {
  "kernelspec": {
   "display_name": "Python 3",
   "language": "python",
   "name": "python3"
  },
  "language_info": {
   "codemirror_mode": {
    "name": "ipython",
    "version": 3
   },
   "file_extension": ".py",
   "mimetype": "text/x-python",
   "name": "python",
   "nbconvert_exporter": "python",
   "pygments_lexer": "ipython3",
   "version": "3.9.6"
  }
 },
 "nbformat": 4,
 "nbformat_minor": 2
}
